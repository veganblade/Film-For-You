{
 "cells": [
  {
   "cell_type": "code",
   "execution_count": 1,
   "metadata": {},
   "outputs": [],
   "source": [
    "import sqlite3\n",
    "import pandas as pd\n",
    "import sqlalchemy\n",
    "import numpy"
   ]
  },
  {
   "cell_type": "code",
   "execution_count": 3,
   "metadata": {},
   "outputs": [
    {
     "data": {
      "text/plain": [
       "<sqlite3.Cursor at 0x1fb1450cb90>"
      ]
     },
     "execution_count": 3,
     "metadata": {},
     "output_type": "execute_result"
    }
   ],
   "source": [
    "#Подключаем SQL базу данных\n",
    "conn_db = sqlite3.connect(\"bd/main_bd.sqlite\", timeout=10)\n",
    "c = conn_db.cursor()\n",
    "c.execute(\"PRAGMA foreign_keys = ON;\")"
   ]
  },
  {
   "cell_type": "code",
   "execution_count": 6,
   "metadata": {},
   "outputs": [
    {
     "name": "stdout",
     "output_type": "stream",
     "text": [
      "                                           Title  title_year     budget  \\\n",
      "0                                     La La Land        2016   30000000   \n",
      "1                                       Zootopia        2016  150000000   \n",
      "2                                           Lion        2016   12000000   \n",
      "3                                        Arrival        2016   47000000   \n",
      "4                          Manchester by the Sea        2016    9000000   \n",
      "..                                           ...         ...        ...   \n",
      "95                                      Whiplash        2014    3300000   \n",
      "96                               Before Midnight        2013    3000000   \n",
      "97    Star Wars: Episode VII - The Force Awakens        2015  245000000   \n",
      "98  Harry Potter and the Deathly Hallows: Part I        2010  150000000   \n",
      "99                       Tucker and Dale vs Evil        2010    5000000   \n",
      "\n",
      "        Gross              actor_1_name        actor_2_name  \\\n",
      "0   151101803              Ryan Gosling          Emma Stone   \n",
      "1   341268248          Ginnifer Goodwin       Jason Bateman   \n",
      "2    51738905                 Dev Patel       Nicole Kidman   \n",
      "3   100546139                 Amy Adams       Jeremy Renner   \n",
      "4    47695371             Casey Affleck  Michelle Williams    \n",
      "..        ...                       ...                 ...   \n",
      "95   13092000              J.K. Simmons     Melissa Benoist   \n",
      "96    8114507  Seamus Davey-Fitzpatrick        Ariane Labed   \n",
      "97  936662225               Doug Walker          Rob Walker   \n",
      "98  296347721              Rupert Grint          Toby Jones   \n",
      "99     223838            Katrina Bowden        Tyler Labine   \n",
      "\n",
      "              actor_3_name  actor_1_facebook_likes  actor_2_facebook_likes  \\\n",
      "0              AmiГ©e Conn                   14000                 19000.0   \n",
      "1               Idris Elba                    2800                 28000.0   \n",
      "2              Rooney Mara                   33000                 96000.0   \n",
      "3          Forest Whitaker                   35000                  5300.0   \n",
      "4            Kyle Chandler                     518                 71000.0   \n",
      "..                     ...                     ...                     ...   \n",
      "95            Chris Mulkey                   24000                   970.0   \n",
      "96  Athina Rachel Tsangari                     140                    63.0   \n",
      "97                       0                     131                    12.0   \n",
      "98            Alfred Enoch                   10000                  2000.0   \n",
      "99          Chelan Simmons                     948                   779.0   \n",
      "\n",
      "    actor_3_facebook_likes  ... Votes3044M Votes3044F Votes45A Votes45AM  \\\n",
      "0                      NaN  ...     07.сен     07.авг   07.июн    07.июн   \n",
      "1                  27000.0  ...     07.авг     08.янв   07.авг    07.авг   \n",
      "2                   9800.0  ...     07.сен     08.фев        8    07.сен   \n",
      "3                      NaN  ...     07.авг     07.авг   07.июн    07.июн   \n",
      "4                   3300.0  ...     07.июл     07.июл   07.июн    07.июн   \n",
      "..                     ...  ...        ...        ...      ...       ...   \n",
      "95                   535.0  ...     08.мар     08.фев   08.янв    08.янв   \n",
      "96                    48.0  ...     07.авг     07.июн   07.мар    07.апр   \n",
      "97                     0.0  ...     07.сен     08.фев   07.сен    07.авг   \n",
      "98                  1000.0  ...     07.мар     08.янв   07.апр    07.мар   \n",
      "99                   440.0  ...     07.май     07.июл   07.май    07.апр   \n",
      "\n",
      "    Votes45AF  Votes1000  VotesUS  VotesnUS  content_rating    Country  \n",
      "0      07.май     07.янв   08.мар    08.янв           PG-13        USA  \n",
      "1      08.янв     07.июн        8         8              PG        USA  \n",
      "2      08.апр     07.янв   08.янв         8           PG-13  Australia  \n",
      "3      07.июл     07.мар        8    07.сен           PG-13        USA  \n",
      "4      07.июн     07.янв   07.сен    07.авг               R        USA  \n",
      "..        ...        ...      ...       ...             ...        ...  \n",
      "95     08.фев          8   08.июн    08.апр               R        USA  \n",
      "96     07.фев          7        8    07.сен               R        USA  \n",
      "97     08.фев     07.июл   08.фев    07.сен           PG-13        USA  \n",
      "98          8     06.июл   07.сен    07.май           PG-13         UK  \n",
      "99     07.июл     07.янв   07.июл    07.май               R     Canada  \n",
      "\n",
      "[100 rows x 62 columns]\n"
     ]
    }
   ],
   "source": [
    "#ФИЛЬМЫ\n",
    "movies = pd.read_csv((\"bd/root_dataset/movies.csv\"), sep=';')\n",
    "print(movies)\n",
    "##Отделяем название от года выпуска\n",
    "#titlename = [i[:-7] for i in movies[\"title\"]]\n",
    "#titleyear = [i[-5:-1] for i in movies[\"title\"]]\n",
    "#movies[\"title\"].update(titlename)\n",
    "#movies[\"year\"] = titleyear"
   ]
  },
  {
   "cell_type": "code",
   "execution_count": 37,
   "metadata": {},
   "outputs": [
    {
     "name": "stderr",
     "output_type": "stream",
     "text": [
      "C:\\Users\\Пользователь\\AppData\\Local\\Programs\\Python\\Python38\\lib\\site-packages\\pandas\\core\\indexing.py:1732: SettingWithCopyWarning: \n",
      "A value is trying to be set on a copy of a slice from a DataFrame\n",
      "\n",
      "See the caveats in the documentation: https://pandas.pydata.org/pandas-docs/stable/user_guide/indexing.html#returning-a-view-versus-a-copy\n",
      "  self._setitem_single_block(indexer, value, name)\n"
     ]
    }
   ],
   "source": [
    "\n",
    "#Реестр всех жанров\n",
    "GENRES_REG = None\n",
    "for i in movies[\"genres\"]:\n",
    "    if \" \" not in i:\n",
    "        GENRES_REG = set(i.split('|'))\n",
    "        break\n",
    "#Заносим в множество реестр всех жанров все жанры по всем фильмам, отсутствие жанра помечаем пустой строкой, в остальных строках заменяем \"|\" на \",\"\n",
    "for i in range(len(movies[\"genres\"])):\n",
    "    if \" \" in movies[\"genres\"].loc[i]:\n",
    "        movies[\"genres\"].loc[i] = '' #заменяем список жанров каждого фильма, у которого они не указаны на пустую строку\n",
    "        pass\n",
    "    else:\n",
    "        genrs = set(movies[\"genres\"].loc[i].split(\"|\")) #Заменяем значения исходной базы данных\n",
    "        movies[\"genres\"].loc[i] = movies[\"genres\"].loc[i].replace(\"|\", \",\")\n",
    "        GENRES_REG.update(genrs) #Обновляем реестр\n",
    "#reestr = open(\"bd/genresReg.txt\", \"w\")\n",
    "#reestr.write((\",\").join(GENRES_REG))\n",
    "#reestr.close()"
   ]
  },
  {
   "cell_type": "code",
   "execution_count": 16,
   "metadata": {},
   "outputs": [],
   "source": [
    "#Создаем и заполняем таблицу movies\n",
    "c.execute(\n",
    "    \"\"\"\n",
    "    DROP TABLE IF EXISTS movies;\n",
    "    \"\"\"\n",
    "    )\n",
    "c.execute(\n",
    "    \"\"\"\n",
    "    CREATE TABLE IF NOT EXISTS movies(\n",
    "        movieId INTEGER PRIMARY KEY AUTOINCREMENT,\n",
    "        title TEXT NOT NULL,\n",
    "        genres TEXT NOT NULL,\n",
    "        year INT NOT NULL\n",
    "        );\n",
    "    \"\"\"\n",
    "    )\n",
    "movies.to_sql('movies', conn_db, if_exists='append', index=False)\n",
    "conn_db.commit()"
   ]
  },
  {
   "cell_type": "code",
   "execution_count": 43,
   "metadata": {},
   "outputs": [],
   "source": [
    "#ОЦЕНКИ\n",
    "ratings = pd.read_csv((\"bd/root_dataset/ratings.csv\"))"
   ]
  },
  {
   "cell_type": "code",
   "execution_count": 38,
   "metadata": {},
   "outputs": [],
   "source": [
    "#ПОЛЬЗОВАТЕЛИ \n",
    "#Создаем SQL таблицу пользователей\n",
    "c.execute(\n",
    "    \"\"\"\n",
    "    DROP TABLE IF EXISTS users;\n",
    "    \"\"\"\n",
    "    )\n",
    "c.execute(\n",
    "    \"\"\"\n",
    "    CREATE TABLE IF NOT EXISTS users(\n",
    "        userId INTEGER PRIMARY KEY AUTOINCREMENT,\n",
    "        username TEXT NULL UNIQUE,\n",
    "        password TEXT NULL\n",
    "        );\n",
    "    \"\"\"\n",
    "    )\n",
    "#ЗАГРУЖАЕМ ВСЕХ ИЗНАЧАЛЬНЫХ ФИКТИВНЫХ ПОЛЬЗОВАТЕЛЕЙ\n",
    "c.execute(\n",
    "    f\"\"\"\n",
    "    INSERT INTO users(userId) VALUES {','.join(f'({i})' for i in ratings['userId'].unique())};\"\"\"\n",
    "    )\n",
    "conn_db.commit()"
   ]
  },
  {
   "cell_type": "code",
   "execution_count": 44,
   "metadata": {},
   "outputs": [],
   "source": [
    "#ОЦЕНКИ ПОЛЬЗОВАТЕЛЕЙ\n",
    "#СОЗДАЕМ SQL ТАБЛИЦУ\n",
    "c.execute(\n",
    "    \"\"\"\n",
    "    DROP TABLE IF EXISTS ratings;\n",
    "    \"\"\"\n",
    "    )\n",
    "c.execute(\n",
    "    \"\"\"\n",
    "    CREATE TABLE IF NOT EXISTS ratings(\n",
    "        userId INT NOT NULL,\n",
    "        movieId INT NOT NULL,\n",
    "        rating INT NULL,\n",
    "        timestamp TEXT NOT NULL,\n",
    "        PRIMARY KEY(userId, movieId),\n",
    "        FOREIGN KEY(userId) REFERENCES users(userId) ON DELETE CASCADE ON UPDATE CASCADE,\n",
    "        FOREIGN KEY(movieId) REFERENCES movies(movieId) ON DELETE CASCADE ON UPDATE CASCADE\n",
    "        );\n",
    "    \"\"\"\n",
    "    )\n",
    "ratings.to_sql('ratings', conn_db, if_exists='append', index=False)\n",
    "conn_db.commit()"
   ]
  },
  {
   "cell_type": "code",
   "execution_count": 40,
   "metadata": {},
   "outputs": [],
   "source": [
    "#ТЕГИ\n",
    "tags = pd.read_csv((\"bd/root_dataset/tags.csv\"))\n",
    "tags['tag'] = tags['tag'].apply(lambda x: x.lower().strip())"
   ]
  },
  {
   "cell_type": "code",
   "execution_count": 41,
   "metadata": {},
   "outputs": [],
   "source": [
    "#ТЕГИ ФИЛЬМОВ ОТ ПОЛЬЗОВАТЕЛЕЙ\n",
    "#СОЗДАЕМ SQL ТАБЛИЦУ\n",
    "c.execute(\n",
    "    \"\"\"\n",
    "    DROP TABLE IF EXISTS tags;\n",
    "    \"\"\"\n",
    "    )\n",
    "c.execute(\n",
    "    \"\"\"\n",
    "    CREATE TABLE IF NOT EXISTS tags(\n",
    "        id INTEGER PRIMARY KEY AUTOINCREMENT,\n",
    "        userId INT NOT NULL,\n",
    "        movieId INT NOT NULL,\n",
    "        tag TEXT NOT NULL,\n",
    "        timestamp TEXT NOT NULL,\n",
    "        FOREIGN KEY(userId) REFERENCES users(userId) ON DELETE CASCADE ON UPDATE CASCADE,\n",
    "        FOREIGN KEY(movieId) REFERENCES movies(movieId) ON DELETE CASCADE ON UPDATE CASCADE,\n",
    "        UNIQUE(userId, movieId, tag)\n",
    "        );\n",
    "    \"\"\"\n",
    "    )\n",
    "tags.to_sql('tags', conn_db, if_exists='append', index=True, index_label='id')\n",
    "conn_db.commit()"
   ]
  },
  {
   "cell_type": "code",
   "execution_count": 42,
   "metadata": {},
   "outputs": [],
   "source": [
    "#ТАБЛИЦА С ИЗБРАННЫМИ ФИЛЬМАМИ ПОЛЬЗОВАТЕЛЕЙ\n",
    "c.execute(\n",
    "    \"\"\"\n",
    "    DROP TABLE IF EXISTS users_favorites;\n",
    "    \"\"\"\n",
    "    )\n",
    "c.execute(\n",
    "    \"\"\"\n",
    "    CREATE TABLE IF NOT EXISTS users_favorites(\n",
    "        userId INT NOT NULL,\n",
    "        movieId INT NOT NULL,\n",
    "        timestamp TEXT NOT NULL,\n",
    "        PRIMARY KEY(userId,movieId),\n",
    "        FOREIGN KEY(userId) REFERENCES users(userId) ON DELETE CASCADE ON UPDATE CASCADE,\n",
    "        FOREIGN KEY(movieId) REFERENCES movies(movieId) ON DELETE CASCADE ON UPDATE CASCADE\n",
    "        );\n",
    "    \"\"\"\n",
    "    )\n",
    "conn_db.commit()"
   ]
  },
  {
   "cell_type": "code",
   "execution_count": 26,
   "metadata": {},
   "outputs": [],
   "source": [
    "#ОТОБРАЖЕНИЕ ФИЛЬМОВ И ЕГО СРЕДНИХ ОЦЕНОК\n",
    "c.execute( \n",
    "    \"\"\"\n",
    "    DROP VIEW IF EXISTS movies_ratings;\n",
    "    \"\"\"\n",
    ")\n",
    "c.execute(\n",
    "    \"\"\"\n",
    "    CREATE VIEW movies_ratings AS \n",
    "    SELECT movies.movieId, AVG(r.rating) as avg_score, COUNT(r.rating) as count_scores \n",
    "    FROM movies\n",
    "    LEFT JOIN ratings r ON r.movieId = movies.movieId\n",
    "    GROUP BY movies.movieId\n",
    "    ORDER BY 1\n",
    "    \"\"\"\n",
    ")\n",
    "conn_db.commit()"
   ]
  },
  {
   "cell_type": "code",
   "execution_count": null,
   "metadata": {},
   "outputs": [],
   "source": [
    "#ОТОБРАЖЕНИЕ ФИЛЬМОВ, ЕГО ТЕГОВ И КОЛИЧЕСТВО ОТМЕТОК КАЖДОГО ПРИСОВОЕНОГО ТЕГА\n",
    "c.execute(\n",
    "    \"\"\"\n",
    "    DROP VIEW IF EXISTS movies_tags;\n",
    "    \"\"\"\n",
    ")\n",
    "c.execute(\n",
    "    \"\"\"\n",
    "    CREATE VIEW movies_tags AS \n",
    "    SELECT movieId, tag, COUNT(tag) as count \n",
    "    FROM tags\n",
    "    GROUP BY movieId, tag; \n",
    "    \"\"\"\n",
    ")\n",
    "conn_db.commit()"
   ]
  },
  {
   "cell_type": "code",
   "execution_count": null,
   "metadata": {},
   "outputs": [],
   "source": [
    "#ТРИГГЕР НА users НА INSERT\n",
    "c.execute(\n",
    "    \"\"\"\n",
    "    CREATE TRIGGER unique_username BEFORE INSERT ON users\n",
    "    WHEN EXISTS (SELECT * FROM users WHERE LOWER(username) = LOWER(NEW.username))\n",
    "    BEGIN\n",
    "        SELECT RAISE(ABORT, 'Unique username');\n",
    "    END;\n",
    "    \"\"\"\n",
    ")\n",
    "conn_db.commit()"
   ]
  },
  {
   "cell_type": "code",
   "execution_count": 8,
   "metadata": {},
   "outputs": [
    {
     "ename": "ProgrammingError",
     "evalue": "Cannot operate on a closed database.",
     "output_type": "error",
     "traceback": [
      "\u001b[1;31m---------------------------------------------------------------------------\u001b[0m",
      "\u001b[1;31mProgrammingError\u001b[0m                          Traceback (most recent call last)",
      "\u001b[1;32mC:\\Users\\73B5~1\\AppData\\Local\\Temp/ipykernel_12968/3275208188.py\u001b[0m in \u001b[0;36m<module>\u001b[1;34m\u001b[0m\n\u001b[0;32m      3\u001b[0m \u001b[1;31m#print(func(a, 'genres'))\u001b[0m\u001b[1;33m\u001b[0m\u001b[1;33m\u001b[0m\u001b[1;33m\u001b[0m\u001b[0m\n\u001b[0;32m      4\u001b[0m \u001b[1;31m#print(f\"({','.join(a)})\")\u001b[0m\u001b[1;33m\u001b[0m\u001b[1;33m\u001b[0m\u001b[1;33m\u001b[0m\u001b[0m\n\u001b[1;32m----> 5\u001b[1;33m c.execute(\n\u001b[0m\u001b[0;32m      6\u001b[0m     f\"\"\"\n\u001b[0;32m      7\u001b[0m     \u001b[0mINSERT\u001b[0m \u001b[0mINTO\u001b[0m \u001b[0mratings\u001b[0m \u001b[0mVALUES\u001b[0m \u001b[1;33m(\u001b[0m\u001b[1;36m611\u001b[0m\u001b[1;33m,\u001b[0m \u001b[1;36m1\u001b[0m\u001b[1;33m,\u001b[0m \u001b[1;36m5\u001b[0m\u001b[1;33m,\u001b[0m \u001b[1;36m123123\u001b[0m\u001b[1;33m)\u001b[0m\u001b[1;33m\u001b[0m\u001b[1;33m\u001b[0m\u001b[0m\n",
      "\u001b[1;31mProgrammingError\u001b[0m: Cannot operate on a closed database."
     ]
    }
   ],
   "source": [
    "a = ['NULL']\n",
    "#func = lambda x, y: f'{y} LIKE \\'%' + f'%\\' AND {y} LIKE \\'%'.join(x) + '\\''\n",
    "#print(func(a, 'genres'))\n",
    "#print(f\"({','.join(a)})\")\n",
    "c.execute(\n",
    "    f\"\"\"\n",
    "    INSERT INTO ratings VALUES (611, 1, 5, 123123)\n",
    "    \"\"\"\n",
    ")\n",
    "conn_db.commit()\n",
    "print(c.fetchall())"
   ]
  },
  {
   "cell_type": "code",
   "execution_count": 7,
   "metadata": {},
   "outputs": [],
   "source": [
    "conn_db.commit()\n",
    "conn_db.close()"
   ]
  },
  {
   "cell_type": "code",
   "execution_count": null,
   "metadata": {},
   "outputs": [],
   "source": [
    "#Создаем дата фрейм с ид фильмов и соответствующими им средними оценками и количеством оценок, взятых из ratings\n",
    "\"\"\"\n",
    "movies_ratings = pd.DataFrame({\n",
    "    'movieId' : movies['movieId'],\n",
    "    'avg_score' : [0] * len(movies['movieId']),\n",
    "    'count_scores' : [0] * len(movies['movieId'])\n",
    "})\n",
    "for i in ratings['movieId'].unique():\n",
    "    scores = ratings['rating'].loc[ratings['movieId'] == i]\n",
    "    c_scores = len(scores)\n",
    "    a_score = scores.sum() / c_scores\n",
    "    movies_ratings['avg_score'].loc[movies_ratings['movieId'] == i] = a_score\n",
    "    movies_ratings['count_scores'].loc[movies_ratings['movieId'] == i] = c_scores\n",
    "print(movies_ratings)\n",
    "\"\"\""
   ]
  },
  {
   "cell_type": "code",
   "execution_count": null,
   "metadata": {},
   "outputs": [],
   "source": [
    "\"\"\"\n",
    "movies_tags = pd.DataFrame({\n",
    "    'movieId' : [], #tags['movieId'].unique(),\n",
    "    'tag' : [],\n",
    "    'count': [] #[ [tags['tag'].loc[tags['movieId'] == i]] for i in (tags.sort_values('movieId'))['movieId'].unique()]\n",
    "})\n",
    "for i in range(len(tags)):\n",
    "    movieId = tags.loc[i]['movieId']\n",
    "    tag = tags.loc[i]['tag']\n",
    "    if movies_tags.loc[(movies_tags['movieId'] == movieId) & (movies_tags['tag'] == tag)].empty:\n",
    "        movies_tags = movies_tags.append({'movieId' : movieId, 'tag' : tag, 'count' : 1}, ignore_index=True, verify_integrity=True).astype({'movieId' : \"int64\", \"count\" : \"int64\"})\n",
    "    else:\n",
    "        movies_tags['count'].loc[(movies_tags['movieId'] == movieId) & (movies_tags['tag'] == tag)] += 1\n",
    "print(movies_tags.sort_values('movieId'))\n",
    "\"\"\""
   ]
  }
 ],
 "metadata": {
  "interpreter": {
   "hash": "c731eb2f20897c16c8f0a0543e09f7b45a779822075faf775d9a095afbe746bc"
  },
  "kernelspec": {
   "display_name": "Python 3.8.6 64-bit (system)",
   "language": "python",
   "name": "python3"
  },
  "language_info": {
   "codemirror_mode": {
    "name": "ipython",
    "version": 3
   },
   "file_extension": ".py",
   "mimetype": "text/x-python",
   "name": "python",
   "nbconvert_exporter": "python",
   "pygments_lexer": "ipython3",
   "version": "3.9.10"
  },
  "orig_nbformat": 4
 },
 "nbformat": 4,
 "nbformat_minor": 2
}
